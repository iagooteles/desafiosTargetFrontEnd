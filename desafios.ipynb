{
 "cells": [
  {
   "cell_type": "markdown",
   "metadata": {},
   "source": [
    "## Notebook com todos os desafios propostos"
   ]
  },
  {
   "cell_type": "markdown",
   "metadata": {},
   "source": [
    "### Desafio 1\n",
    "\n",
    "1) Observe o trecho de código abaixo: int INDICE = 13, SOMA = 0, K = 0;\n",
    "\n",
    "Enquanto K < INDICE faça { K = K + 1; SOMA = SOMA + K; }\n",
    "\n",
    "Imprimir(SOMA);\n",
    "\n",
    "Ao final do processamento, qual será o valor da variável SOMA?"
   ]
  },
  {
   "cell_type": "code",
   "execution_count": 1,
   "metadata": {},
   "outputs": [
    {
     "name": "stdout",
     "output_type": "stream",
     "text": [
      "O valor da variável SOMA é: 91\n"
     ]
    }
   ],
   "source": [
    "def calcular_soma():\n",
    "    INDICE = 13\n",
    "    SOMA = 0\n",
    "    K = 0\n",
    "\n",
    "    while K < INDICE:\n",
    "        K += 1\n",
    "        SOMA += K\n",
    "\n",
    "    print(f\"O valor da variável SOMA é: {SOMA}\")\n",
    "\n",
    "calcular_soma()"
   ]
  },
  {
   "cell_type": "markdown",
   "metadata": {},
   "source": [
    "### RESPOSTA: O valor da variável SOMA será 91\n"
   ]
  },
  {
   "cell_type": "markdown",
   "metadata": {},
   "source": [
    "### Desafio 2\n",
    "\n",
    "2) Dado a sequência de Fibonacci, onde se inicia por 0 e 1 e o próximo valor sempre será a soma dos 2 valores anteriores (exemplo: 0, 1, 1, 2, 3, 5, 8, 13, 21, 34...), escreva um programa na linguagem que desejar onde, informado um número, ele calcule a sequência de Fibonacci e retorne uma mensagem avisando se o número informado pertence ou não a sequência.\n",
    "\n",
    "IMPORTANTE: Esse número pode ser informado através de qualquer entrada de sua preferência ou pode ser previamente definido no código;"
   ]
  },
  {
   "cell_type": "code",
   "execution_count": 2,
   "metadata": {},
   "outputs": [
    {
     "name": "stdout",
     "output_type": "stream",
     "text": [
      "O número 5 pertence à sequência de Fibonacci.\n",
      "O número 21 pertence à sequência de Fibonacci.\n",
      "O número 33 não pertence à sequência de Fibonacci.\n",
      "O número 35 não pertence à sequência de Fibonacci.\n",
      "O número 100 não pertence à sequência de Fibonacci.\n"
     ]
    }
   ],
   "source": [
    "def verificar_fibonacci(numero):\n",
    "    a, b = 0, 1\n",
    "\n",
    "    while b <= numero:\n",
    "        if b == numero or a == numero:\n",
    "            print(f\"O número {numero} pertence à sequência de Fibonacci.\")\n",
    "            return\n",
    "        a, b = b, a + b\n",
    "\n",
    "    print(f\"O número {numero} não pertence à sequência de Fibonacci.\")\n",
    "\n",
    "verificar_fibonacci(5)\n",
    "verificar_fibonacci(21)\n",
    "verificar_fibonacci(33)\n",
    "verificar_fibonacci(35)\n",
    "verificar_fibonacci(100)"
   ]
  },
  {
   "cell_type": "markdown",
   "metadata": {},
   "source": [
    "### Resposta (Com os números propostos, para mudar essa resposta basta substituir algum número pelo número desejado): \n",
    "\n",
    "O número 5 pertence à sequência de Fibonacci.\n",
    "\n",
    "O número 21 pertence à sequência de Fibonacci.\n",
    "\n",
    "O número 33 não pertence à sequência de Fibonacci.\n",
    "\n",
    "O número 35 não pertence à sequência de Fibonacci.\n",
    "\n",
    "O número 100 não pertence à sequência de Fibonacci."
   ]
  },
  {
   "cell_type": "markdown",
   "metadata": {},
   "source": [
    "### Desafio 3\n",
    "\n",
    "3) Dado um vetor que guarda o valor de faturamento diário de uma distribuidora, faça um programa, na linguagem que desejar, que calcule e retorne:\n",
    "• O menor valor de faturamento ocorrido em um dia do mês;\n",
    "• O maior valor de faturamento ocorrido em um dia do mês;\n",
    "• Número de dias no mês em que o valor de faturamento diário foi superior à média mensal.\n",
    "\n",
    "IMPORTANTE:\n",
    "a) Usar o json ou xml disponível como fonte dos dados do faturamento mensal;\n",
    "b) Podem existir dias sem faturamento, como nos finais de semana e feriados. Estes dias devem ser ignorados no cálculo da média;"
   ]
  },
  {
   "cell_type": "code",
   "execution_count": 1,
   "metadata": {},
   "outputs": [
    {
     "name": "stdout",
     "output_type": "stream",
     "text": [
      "Menor valor de faturamento: R$373.78\n",
      "Maior valor de faturamento: R$48924.24\n",
      "Número de dias com faturamento acima da média: 10\n"
     ]
    }
   ],
   "source": [
    "def analisar_faturamento(faturamento_diario):\n",
    "    dias_com_faturamento = [faturamento['valor'] for faturamento in faturamento_diario if faturamento['valor'] > 0]\n",
    "\n",
    "    menor_valor = min(dias_com_faturamento)\n",
    "    maior_valor = max(dias_com_faturamento)\n",
    "\n",
    "    media = sum(dias_com_faturamento) / len(dias_com_faturamento)\n",
    "\n",
    "    dias_acima_da_media = len([d for d in dias_com_faturamento if d > media])\n",
    "\n",
    "    print(f\"Menor valor de faturamento: R${menor_valor:.2f}\")\n",
    "    print(f\"Maior valor de faturamento: R${maior_valor:.2f}\")\n",
    "    print(f\"Número de dias com faturamento acima da média: {dias_acima_da_media}\")\n",
    "\n",
    "faturamento_diario = [\n",
    "    {\"dia\": 1, \"valor\": 22174.1664},\n",
    "    {\"dia\": 2, \"valor\": 24537.6698},\n",
    "    {\"dia\": 3, \"valor\": 26139.6134},\n",
    "    {\"dia\": 4, \"valor\": 0.0},\n",
    "    {\"dia\": 5, \"valor\": 0.0},\n",
    "    {\"dia\": 6, \"valor\": 26742.6612},\n",
    "    {\"dia\": 7, \"valor\": 0.0},\n",
    "    {\"dia\": 8, \"valor\": 42889.2258},\n",
    "    {\"dia\": 9, \"valor\": 46251.174},\n",
    "    {\"dia\": 10, \"valor\": 11191.4722},\n",
    "    {\"dia\": 11, \"valor\": 0.0},\n",
    "    {\"dia\": 12, \"valor\": 0.0},\n",
    "    {\"dia\": 13, \"valor\": 3847.4823},\n",
    "    {\"dia\": 14, \"valor\": 373.7838},\n",
    "    {\"dia\": 15, \"valor\": 2659.7563},\n",
    "    {\"dia\": 16, \"valor\": 48924.2448},\n",
    "    {\"dia\": 17, \"valor\": 18419.2614},\n",
    "    {\"dia\": 18, \"valor\": 0.0},\n",
    "    {\"dia\": 19, \"valor\": 0.0},\n",
    "    {\"dia\": 20, \"valor\": 35240.1826},\n",
    "    {\"dia\": 21, \"valor\": 43829.1667},\n",
    "    {\"dia\": 22, \"valor\": 18235.6852},\n",
    "    {\"dia\": 23, \"valor\": 4355.0662},\n",
    "    {\"dia\": 24, \"valor\": 13327.1025},\n",
    "    {\"dia\": 25, \"valor\": 0.0},\n",
    "    {\"dia\": 26, \"valor\": 0.0},\n",
    "    {\"dia\": 27, \"valor\": 25681.8318},\n",
    "    {\"dia\": 28, \"valor\": 1718.1221},\n",
    "    {\"dia\": 29, \"valor\": 13220.495},\n",
    "    {\"dia\": 30, \"valor\": 8414.61}\n",
    "]\n",
    "\n",
    "analisar_faturamento(faturamento_diario)"
   ]
  },
  {
   "cell_type": "markdown",
   "metadata": {},
   "source": [
    "# RESPOSTA (Com o faturamento proposto): \n",
    "\n",
    "Menor valor de faturamento: R$373.78\n",
    "\n",
    "Maior valor de faturamento: R$48924.24\n",
    "\n",
    "Número de dias com faturamento acima da média: 10"
   ]
  },
  {
   "cell_type": "markdown",
   "metadata": {},
   "source": [
    "### Desafio 4\n",
    "\n",
    "4) Dado o valor de faturamento mensal de uma distribuidora, detalhado por estado:\n",
    "• SP – R$67.836,43\n",
    "• RJ – R$36.678,66\n",
    "• MG – R$29.229,88\n",
    "• ES – R$27.165,48\n",
    "• Outros – R$19.849,53\n",
    "\n",
    "Escreva um programa na linguagem que desejar onde calcule o percentual de representação que cada estado teve dentro do valor total mensal da distribuidora.  \n"
   ]
  },
  {
   "cell_type": "code",
   "execution_count": 4,
   "metadata": {},
   "outputs": [
    {
     "name": "stdout",
     "output_type": "stream",
     "text": [
      "SP: 37.53%\n",
      "RJ: 20.29%\n",
      "MG: 16.17%\n",
      "ES: 15.03%\n",
      "Outros: 10.98%\n"
     ]
    }
   ],
   "source": [
    "def calcular_percentual_por_estado():\n",
    "    faturamento_por_estado = {\n",
    "        \"SP\": 67836.43,\n",
    "        \"RJ\": 36678.66,\n",
    "        \"MG\": 29229.88,\n",
    "        \"ES\": 27165.48,\n",
    "        \"Outros\": 19849.53,\n",
    "    }\n",
    "\n",
    "    total = sum(faturamento_por_estado.values())\n",
    "\n",
    "    for estado, valor in faturamento_por_estado.items():\n",
    "        percentual = (valor / total) * 100\n",
    "        print(f\"{estado}: {percentual:.2f}%\")\n",
    "\n",
    "calcular_percentual_por_estado()"
   ]
  },
  {
   "cell_type": "markdown",
   "metadata": {},
   "source": [
    "### Resposta: \n",
    "\n",
    "SP: 37.53%\n",
    "\n",
    "RJ: 20.29%\n",
    "\n",
    "MG: 16.17%\n",
    "\n",
    "ES: 15.03%\n",
    "\n",
    "Outros: 10.98%"
   ]
  },
  {
   "cell_type": "markdown",
   "metadata": {},
   "source": [
    "### Desafio 5: \n",
    "\n",
    "5) Escreva um programa que inverta os caracteres de um string.\n",
    "\n",
    "IMPORTANTE:\n",
    "\n",
    "a) Essa string pode ser informada através de qualquer entrada de sua preferência ou pode ser previamente definida no código;\n",
    "\n",
    "b) Evite usar funções prontas, como, por exemplo, reverse;"
   ]
  },
  {
   "cell_type": "code",
   "execution_count": 6,
   "metadata": {},
   "outputs": [
    {
     "name": "stdout",
     "output_type": "stream",
     "text": [
      "Texto original: Fortaleza é uma cidade linda\n",
      "Texto invertido: adnil edadic amu é azelatroF\n"
     ]
    }
   ],
   "source": [
    "def inverter_string(texto):\n",
    "    invertida = \"\"\n",
    "\n",
    "    for i in range(len(texto) - 1, -1, -1):\n",
    "        invertida += texto[i]\n",
    "\n",
    "    print(f\"Texto original: {texto}\")\n",
    "    print(f\"Texto invertido: {invertida}\")\n",
    "\n",
    "inverter_string(\"Fortaleza é uma cidade linda\")\n"
   ]
  }
 ],
 "metadata": {
  "kernelspec": {
   "display_name": "base",
   "language": "python",
   "name": "python3"
  },
  "language_info": {
   "codemirror_mode": {
    "name": "ipython",
    "version": 3
   },
   "file_extension": ".py",
   "mimetype": "text/x-python",
   "name": "python",
   "nbconvert_exporter": "python",
   "pygments_lexer": "ipython3",
   "version": "3.11.7"
  }
 },
 "nbformat": 4,
 "nbformat_minor": 2
}
